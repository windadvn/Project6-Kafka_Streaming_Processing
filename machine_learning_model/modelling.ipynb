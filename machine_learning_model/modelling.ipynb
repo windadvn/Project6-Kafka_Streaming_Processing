{
 "cells": [
  {
   "cell_type": "code",
   "execution_count": 2,
   "metadata": {},
   "outputs": [
    {
     "name": "stderr",
     "output_type": "stream",
     "text": [
      "C:\\Users\\10698\\Anaconda3\\lib\\site-packages\\sklearn\\utils\\validation.py:63: DataConversionWarning: A column-vector y was passed when a 1d array was expected. Please change the shape of y to (n_samples, ), for example using ravel().\n",
      "  return f(*args, **kwargs)\n"
     ]
    }
   ],
   "source": [
    "#!python3\n",
    "\n",
    "import pickle\n",
    "import pandas\n",
    "from sklearn.linear_model import LogisticRegression\n",
    "\n",
    "if __name__ == \"__main__\":\n",
    "    \n",
    "    df = pandas.read_csv('Fraud.csv')\n",
    "    \n",
    "    d_devices = pandas.get_dummies(df['device'])\n",
    "    d_devices.insert(0,'device',df['device'])\n",
    "    d_devices.drop_duplicates().to_json('dict_devices.json', orient='records')\n",
    "\n",
    "    d_newbalanceDest = pandas.get_dummies(df['newbalanceDest'])\n",
    "    d_newbalanceDest.insert(0,'newbalanceDest',df['newbalanceDest'])\n",
    "    d_newbalanceDest.drop_duplicates().to_json('dict_newbalanceDest.json', orient='records')\n",
    "\n",
    "    df = pandas.concat([df,pandas.get_dummies(df['device'])], axis=1).drop('device', axis=1)\n",
    "    df = pandas.concat([df,pandas.get_dummies(df['newbalanceDest'])], axis=1).drop('newbalanceDest', axis=1)\n",
    "\n",
    "    X = df.drop(['isFraud'], axis=1).values.tolist()\n",
    "    y = df[['isFraud']].values.tolist()\n",
    "    \n",
    "    model = LogisticRegression()\n",
    "    model.fit(X,y)\n",
    "    with open('modelFraud.pkl','wb') as file:\n",
    "        pickle.dump(model, file)"
   ]
  },
  {
   "cell_type": "code",
   "execution_count": 1,
   "metadata": {},
   "outputs": [
    {
     "ename": "NameError",
     "evalue": "name 'X' is not defined",
     "output_type": "error",
     "traceback": [
      "\u001b[1;31m---------------------------------------------------------------------------\u001b[0m",
      "\u001b[1;31mNameError\u001b[0m                                 Traceback (most recent call last)",
      "\u001b[1;32m<ipython-input-1-b5fec669aca1>\u001b[0m in \u001b[0;36m<module>\u001b[1;34m\u001b[0m\n\u001b[1;32m----> 1\u001b[1;33m \u001b[0mX\u001b[0m\u001b[1;33m\u001b[0m\u001b[1;33m\u001b[0m\u001b[0m\n\u001b[0m",
      "\u001b[1;31mNameError\u001b[0m: name 'X' is not defined"
     ]
    }
   ],
   "source": [
    "X"
   ]
  },
  {
   "cell_type": "code",
   "execution_count": null,
   "metadata": {},
   "outputs": [],
   "source": []
  }
 ],
 "metadata": {
  "kernelspec": {
   "display_name": "Python 3.9.12 ('base')",
   "language": "python",
   "name": "python3"
  },
  "language_info": {
   "codemirror_mode": {
    "name": "ipython",
    "version": 3
   },
   "file_extension": ".py",
   "mimetype": "text/x-python",
   "name": "python",
   "nbconvert_exporter": "python",
   "pygments_lexer": "ipython3",
   "version": "3.9.12"
  },
  "vscode": {
   "interpreter": {
    "hash": "a077222d77dfe082b8f1dd562ad70e458ac2ab76993a0b248ab0476e32e9e8dd"
   }
  }
 },
 "nbformat": 4,
 "nbformat_minor": 4
}
