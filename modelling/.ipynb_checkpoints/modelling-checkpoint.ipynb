{
 "cells": [
  {
   "cell_type": "code",
   "execution_count": 6,
   "metadata": {},
   "outputs": [
    {
     "name": "stdout",
     "output_type": "stream",
     "text": [
      "Preprocessing data device has save...\n",
      "Preprocessing data newbalanceDest has save...\n",
      "Preprocessing data timeformat1 has save...\n",
      "9.86141586303711 Training Model done create...\n"
     ]
    }
   ],
   "source": [
    "#!python3\n",
    "\n",
    "import os\n",
    "\n",
    "import pickle\n",
    "import time\n",
    "\n",
    "import pandas as pd\n",
    "import numpy as np\n",
    "\n",
    "from sklearn.preprocessing import StandardScaler\n",
    "from sklearn.preprocessing import LabelEncoder\n",
    "from sklearn.preprocessing import OneHotEncoder\n",
    "\n",
    "from sklearn.linear_model import LogisticRegression\n",
    "\n",
    "import warnings\n",
    "warnings.filterwarnings('ignore')\n",
    "\n",
    "def prepOneHotEncoder(df,col):\n",
    "    labelOnetHotEncoder = OneHotEncoder()\n",
    "    dfOneHotEncoder = pd.DataFrame(labelOnetHotEncoder.fit_transform(df[[col]]).toarray(), \\\n",
    "                                   columns = [col+\"_\"+str(i+1) for i in range(len(df[col].unique()))])\n",
    "    \n",
    "    filename = 'prep'+col+'.pkl'\n",
    "    pickle \\\n",
    "        .dump(labelOnetHotEncoder, open(filename, 'wb'))\n",
    "    print(f\"Preprocessing data {col} has save...\")\n",
    "    \n",
    "    df = pd \\\n",
    "            .concat([df.drop(col,axis=1), dfOneHotEncoder],axis=1)\n",
    "    \n",
    "    return df\n",
    "\n",
    "def prepStandarScaler(df,col):\n",
    "    scallingStandarScaler = StandardScaler()\n",
    "    dfStandarScaler = scallingStandarScaler.fit_transform([df[col]])[0]\n",
    "\n",
    "    filename = 'prep'+col+'.pkl'\n",
    "    pickle \\\n",
    "        .dump(scallingStandarScaler, open(filename, 'wb'))\n",
    "    print(f\"Preprocessing data {col} has save...\")\n",
    "    \n",
    "    df = df \\\n",
    "            .drop(col,axis=1)\n",
    "    df[col] = dfStandarScaler\n",
    "    \n",
    "    return df\n",
    "\n",
    "def runModel(data,path):\n",
    "    path = path+\"\\\\\"+\"modelling\"+\"\\\\\"+\"packages\"+\"\\\\\"\n",
    "    col = pickle.load(open(path+'columnModelling.pkl', 'rb'))\n",
    "    df = pd.DataFrame(data,index=[0])\n",
    "    df = df[col]\n",
    "\n",
    "    prepdevice = pickle.load(open(path+'prepdevice.pkl', 'rb'))\n",
    "    dfDevice = pd \\\n",
    "                .DataFrame(prepdevice.transform([df['device']]).toarray(),\n",
    "                          columns=[\"device_\"+str(i+1) for i in range(len(prepdevice.transform([df['device']]).toarray()[0]))])\n",
    "    df = pd.concat([df.drop('device',axis=1),dfDevice],axis=1)\n",
    "\n",
    "    prepnewbalanceDest = pickle.load(open(path+'prepnewbalanceDest.pkl', 'rb'))\n",
    "    prepnewbalanceDest = pd \\\n",
    "                .DataFrame(prepnewbalanceDest.transform([df['newbalanceDest']]).toarray(),\n",
    "                          columns=[\"newbalanceDest_\"+str(i+1) for i in range(len(prepnewbalanceDest.transform([df['newbalanceDest']]).toarray()[0]))])\n",
    "    df = pd.concat([df.drop('newbalanceDest',axis=1),prepnewbalanceDest],axis=1)\n",
    "\n",
    "    X = df.values.tolist()\n",
    "    model = pickle.load(open(path+'modelFraud.pkl', 'rb'))\n",
    "    y = model.predict(X)[0]\n",
    "    if y == 0:\n",
    "        return \"Fraud\"\n",
    "    else:\n",
    "        return \"White List\"\n",
    "\n",
    "if __name__ == \"__main__\":\n",
    "    #pathPackages = os.getcwd()+\"\\\\\"+\"packages\"+\"\\\\\"\n",
    "    target = 'isFraud'\n",
    "    \n",
    "    data = pd.read_csv('Fraud.csv')\n",
    "    df = data.drop(target,axis=1)\n",
    "    pickle \\\n",
    "            .dump(df.columns.tolist(), open('columnModelling.pkl', 'wb'))\n",
    "\n",
    "    colOneHotEncoder = ['device','newbalanceDest']\n",
    "    for col in colOneHotEncoder:\n",
    "        df = prepOneHotEncoder(df,col)\n",
    "\n",
    "    colprepStandarScaler = ['timeformat1']\n",
    "    for col in colprepStandarScaler:\n",
    "        df = prepStandarScaler(df,col)\n",
    "\n",
    "    X = df.values.tolist()\n",
    "    y = data[['isFraud']].values.tolist()\n",
    "    \n",
    "    start = time.time()\n",
    "    model = LogisticRegression()\n",
    "    model.fit(X,y)\n",
    "    stop = time.time()\n",
    "    \n",
    "    with open('modelFraud.pkl','wb') as file:\n",
    "        pickle.dump(model, file)\n",
    "    print(f\"{stop-start} Training Model done create...\")"
   ]
  },
  {
   "cell_type": "code",
   "execution_count": 9,
   "metadata": {},
   "outputs": [
    {
     "data": {
      "text/plain": [
       "Index(['device', 'timeformat1', 'timeformat2', 'newbalanceDest', 'isFraud'], dtype='object')"
      ]
     },
     "execution_count": 9,
     "metadata": {},
     "output_type": "execute_result"
    }
   ],
   "source": [
    "data = pd.read_csv('Fraud.csv')\n",
    "data.columns"
   ]
  },
  {
   "cell_type": "code",
   "execution_count": 10,
   "metadata": {},
   "outputs": [
    {
     "data": {
      "text/html": [
       "<div>\n",
       "<style scoped>\n",
       "    .dataframe tbody tr th:only-of-type {\n",
       "        vertical-align: middle;\n",
       "    }\n",
       "\n",
       "    .dataframe tbody tr th {\n",
       "        vertical-align: top;\n",
       "    }\n",
       "\n",
       "    .dataframe thead th {\n",
       "        text-align: right;\n",
       "    }\n",
       "</style>\n",
       "<table border=\"1\" class=\"dataframe\">\n",
       "  <thead>\n",
       "    <tr style=\"text-align: right;\">\n",
       "      <th></th>\n",
       "      <th>device</th>\n",
       "      <th>timeformat1</th>\n",
       "      <th>timeformat2</th>\n",
       "      <th>newbalanceDest</th>\n",
       "      <th>isFraud</th>\n",
       "    </tr>\n",
       "  </thead>\n",
       "  <tbody>\n",
       "    <tr>\n",
       "      <th>0</th>\n",
       "      <td>Payment</td>\n",
       "      <td>170136.0</td>\n",
       "      <td>0.0</td>\n",
       "      <td>OS</td>\n",
       "      <td>0</td>\n",
       "    </tr>\n",
       "  </tbody>\n",
       "</table>\n",
       "</div>"
      ],
      "text/plain": [
       "    device  timeformat1  timeformat2 newbalanceDest  isFraud\n",
       "0  Payment     170136.0          0.0             OS        0"
      ]
     },
     "execution_count": 10,
     "metadata": {},
     "output_type": "execute_result"
    }
   ],
   "source": [
    "data.head(1)"
   ]
  },
  {
   "cell_type": "code",
   "execution_count": null,
   "metadata": {},
   "outputs": [],
   "source": []
  }
 ],
 "metadata": {
  "kernelspec": {
   "display_name": "Python 3",
   "language": "python",
   "name": "python3"
  },
  "language_info": {
   "codemirror_mode": {
    "name": "ipython",
    "version": 3
   },
   "file_extension": ".py",
   "mimetype": "text/x-python",
   "name": "python",
   "nbconvert_exporter": "python",
   "pygments_lexer": "ipython3",
   "version": "3.8.5"
  }
 },
 "nbformat": 4,
 "nbformat_minor": 4
}
